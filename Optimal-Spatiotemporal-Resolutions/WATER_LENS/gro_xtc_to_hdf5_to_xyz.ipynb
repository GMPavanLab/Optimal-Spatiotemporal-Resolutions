{
 "cells": [
  {
   "cell_type": "code",
   "execution_count": 1,
   "metadata": {},
   "outputs": [],
   "source": [
    "import SOAPify.HDF5er as HDF5er\n",
    "import SOAPify\n",
    "import h5py\n",
    "import matplotlib.pyplot as plt\n",
    "from matplotlib.collections import LineCollection\n",
    "from matplotlib.patches import Circle\n",
    "from matplotlib.colors import ListedColormap, BoundaryNorm\n",
    "from scipy.signal import savgol_filter\n",
    "from sklearn.cluster import KMeans\n",
    "from sklearn.metrics import silhouette_score\n",
    "import numpy as np\n",
    "from multiprocessing.pool import ThreadPool as Pool\n",
    "import MDAnalysis as mda\n",
    "from MDAnalysis.analysis.rdf import InterRDF\n",
    "from MDAnalysis import Universe as mdaUniverse\n",
    "from seaborn import kdeplot\n",
    "from SOAPify.HDF5er import saveXYZfromTrajGroup,MDA2HDF5,saveXYZfromTrajGroup"
   ]
  },
  {
   "cell_type": "code",
   "execution_count": 8,
   "metadata": {},
   "outputs": [
    {
     "name": "stdout",
     "output_type": "stream",
     "text": [
      "[0:100] 100 100 chunk of 904 B\n",
      "[100:200] 100 100 chunk of 904 B\n",
      "[200:300] 100 100 chunk of 904 B\n",
      "[300:400] 100 100 chunk of 904 B\n",
      "[400:500] 100 100 chunk of 904 B\n",
      "[500:600] 100 100 chunk of 904 B\n",
      "[600:700] 100 100 chunk of 904 B\n",
      "[700:800] 100 100 chunk of 904 B\n",
      "[800:900] 100 100 chunk of 904 B\n",
      "[900:1000] 100 100 chunk of 904 B\n",
      "[1000:1001] 1 1 chunk of 88 B\n"
     ]
    }
   ],
   "source": [
    "#1 CREO hdf5 #########################################\n",
    "\n",
    "\n",
    "#inputs\n",
    "structFile = \"path to gro\"\n",
    "trajFiles = [\"path to xtc\"]\n",
    "select_atoms = 'type *'\n",
    "u = mda.Universe(structFile,*trajFiles)\n",
    "selection = u.select_atoms(select_atoms)\n",
    "\n",
    "name_out = \"try\"\n",
    "path_out = \"path\"\n",
    "trajname = \"traj name\"\n",
    "\n",
    "hdf5_file = path_out + name_out + \".hdf5\"\n",
    "\n",
    "#CREATE hdf5\n",
    "HDF5er.MDA2HDF5(u, hdf5_file, trajname, trajChunkSize=100, attrs=None)"
   ]
  },
  {
   "cell_type": "code",
   "execution_count": 29,
   "metadata": {},
   "outputs": [
    {
     "name": "stdout",
     "output_type": "stream",
     "text": [
      "[0:100] 100 100 chunk of 904 B\n",
      "[100:200] 100 100 chunk of 904 B\n",
      "[200:300] 100 100 chunk of 904 B\n",
      "[300:400] 100 100 chunk of 904 B\n",
      "[400:500] 100 100 chunk of 904 B\n",
      "[500:600] 100 100 chunk of 904 B\n",
      "[600:700] 100 100 chunk of 904 B\n",
      "[700:800] 100 100 chunk of 904 B\n",
      "[800:900] 100 100 chunk of 904 B\n",
      "[900:1000] 100 100 chunk of 904 B\n",
      "[1000:1001] 1 1 chunk of 88 B\n",
      "HDF5 file created at: /home/dom/Scaricati/output_noh_v2.hdf5\n"
     ]
    }
   ],
   "source": [
    "import MDAnalysis as mda\n",
    "import h5py\n",
    "\n",
    "# Load the .gro and .xtc files using MDAnalysis\n",
    "gro_file = \"gro\"\n",
    "xtc_file = \"xtc\"\n",
    "trajname=\"output\"\n",
    "# Create a Universe object\n",
    "universe = mda.Universe(gro_file, xtc_file)\n",
    "selection = u.select_atoms('not type H*')\n",
    "\n",
    "# Define the HDF5 file path\n",
    "hdf5_file_path = \"name.hdf5\"\n",
    "\n",
    "HDF5er.MDA2HDF5(selection, hdf5_file_path, trajname, trajChunkSize=100, attrs=None)\n",
    "\n",
    "print(f\"HDF5 file created at: {hdf5_file_path}\")\n"
   ]
  },
  {
   "cell_type": "code",
   "execution_count": null,
   "metadata": {},
   "outputs": [],
   "source": [
    "xyz=\"/.xyz\"\n",
    "# Create a Universe object\n",
    "universe = mda.Universe(xyz)\n",
    "\n",
    "# Define the HDF5 file path\n",
    "hdf5_file_path = \".hdf5\"\n",
    "\n",
    "HDF5er.MDA2HDF5(universe, hdf5_file_path, trajname, trajChunkSize=100, attrs=None)\n",
    "\n",
    "print(f\"HDF5 file created at: {hdf5_file_path}\")"
   ]
  },
  {
   "cell_type": "code",
   "execution_count": 16,
   "metadata": {},
   "outputs": [
    {
     "name": "stdout",
     "output_type": "stream",
     "text": [
      "5219\n",
      "(1001, 5219, 3)\n"
     ]
    }
   ],
   "source": [
    "##check dimensions\n",
    "trajFileName = \"/.hdf5\"\n",
    "trajAddress = \"/Trajectories/output\"\n",
    "wantedTrajectory = slice(0, None, 1)\n",
    "\n",
    "with h5py.File(trajFileName, \"r\") as trajFile:\n",
    "    tgroup = trajFile[trajAddress]\n",
    "    universe = HDF5er.createUniverseFromSlice(tgroup, wantedTrajectory)\n",
    "\n",
    "nAtoms = len(universe.atoms)\n",
    "print(nAtoms)\n",
    "print(np.shape(universe.trajectory))"
   ]
  },
  {
   "cell_type": "code",
   "execution_count": 22,
   "metadata": {},
   "outputs": [],
   "source": [
    "#esportare roba per visualizzazione\n",
    "\n",
    "#fetta di traiettoria da prendere\n",
    "wantedTrajectory = slice(None)\n",
    "trajAddress = \"/Trajectories/output\"\n",
    "\n",
    "def export(wantedTrajectory):\n",
    "    with h5py.File(\"/output_noh.hdf5\", \"r\") as trajFile, open(\"noH_new.xyz\", \"w\") as xyzFile:\n",
    "        tgroup = trajFile[trajAddress]\n",
    "        ref = HDF5er.createUniverseFromSlice(tgroup, [0])\n",
    "        nAt = len(ref.atoms)\n",
    "        ref.add_TopologyAttr(\"mass\", [1] * nAt)\n",
    "        exportuniverse = HDF5er.createUniverseFromSlice(tgroup, wantedTrajectory)\n",
    "        exportuniverse.add_TopologyAttr(\"mass\", [1] * nAt)\n",
    "\n",
    "    \n",
    "        HDF5er.getXYZfromMDA(\n",
    "            xyzFile,\n",
    "            exportuniverse,\n",
    "            allFramesProperty='Origin=\"0 0 0\"',\n",
    "            \n",
    "        )\n",
    "\n",
    "        universe.trajectory\n",
    "\n",
    "export(wantedTrajectory)"
   ]
  }
 ],
 "metadata": {
  "kernelspec": {
   "display_name": "casino",
   "language": "python",
   "name": "python3"
  },
  "language_info": {
   "codemirror_mode": {
    "name": "ipython",
    "version": 3
   },
   "file_extension": ".py",
   "mimetype": "text/x-python",
   "name": "python",
   "nbconvert_exporter": "python",
   "pygments_lexer": "ipython3",
   "version": "3.8.10"
  },
  "orig_nbformat": 4
 },
 "nbformat": 4,
 "nbformat_minor": 2
}
